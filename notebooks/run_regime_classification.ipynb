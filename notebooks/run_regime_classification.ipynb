{
 "cells": [
  {
   "metadata": {},
   "cell_type": "markdown",
   "source": [
    "## Run Regime Classification\n",
    "Run regime classification for all CAMELS basins"
   ],
   "id": "a0be3ecf7e0e571b"
  },
  {
   "metadata": {
    "ExecuteTime": {
     "end_time": "2024-10-12T15:09:33.809965Z",
     "start_time": "2024-10-12T15:09:25.133515Z"
    }
   },
   "cell_type": "code",
   "source": [
    "import numpy as np\n",
    "import nbformat\n",
    "from nbconvert.preprocessors import ExecutePreprocessor\n",
    "import warnings\n",
    "warnings.simplefilter(action='ignore', category=FutureWarning)\n",
    "\n",
    "# Load the Basin IDs\n",
    "ids = [2327]#[\"2004\", \"2327\", \"2498\"]\n",
    "\n",
    "def run_regime_classification(ids):\n",
    "    # Load the rc_simulation Notebook\n",
    "    notebook_file = '../notebooks/1_RegimeClassification.ipynb'\n",
    "    results = []  # Array to store results\n",
    "    \n",
    "    for basin_id in ids:\n",
    "        print(f\"Verarbeite Basin ID: {basin_id}\")  # Debug: Log the current Basin ID\n",
    "        with open(notebook_file) as f:\n",
    "            nb = nbformat.read(f, as_version=4)\n",
    "\n",
    "        # Set basin_id in the notebook as test_basin_id\n",
    "        replacement_done = False  # Flag to track if replacement is done\n",
    "        \n",
    "        for cell in nb.cells:\n",
    "            if cell.cell_type == 'code' and not replacement_done:\n",
    "                # Search for the line that contains 'test_basin_id ='\n",
    "                if 'test_basin_id' in cell.source:\n",
    "                    # Replace the entire line where test_basin_id is defined\n",
    "                    cell_lines = cell.source.split('\\n')\n",
    "                    for i, line in enumerate(cell_lines):\n",
    "                        if 'test_basin_id' in line:\n",
    "                            # Replace the line with the new basin_id assignment\n",
    "                            cell_lines[i] = f\"test_basin_id = '{basin_id}'  # Set basin_id for testing\"\n",
    "                            # Set the flag to True to prevent further replacements\n",
    "                            replacement_done = True\n",
    "                            break  # Exit the loop after the first replacement\n",
    "                    # Re-join the cell source code\n",
    "                    cell.source = '\\n'.join(cell_lines)\n",
    "\n",
    "\n",
    "\n",
    "        # Execute the notebook\n",
    "        ep = ExecutePreprocessor(timeout=600, kernel_name='python3')\n",
    "        try:\n",
    "            ep.preprocess(nb, {'metadata': {'path': './'}})\n",
    "            \n",
    "            print(\"this is  a test\")\n",
    "            theta_rad_events_annualmax = nb.cells[-3].outputs[0]\n",
    "            print(theta_rad_events_annualmax['text'])\n",
    "            theta_rad_events_POT = nb.cells[-2].outputs[0]\n",
    "            theta_rad_events_COM = nb.cells[-1].outputs[0]\n",
    "\n",
    "            # Append basin_id and parameters to the results array\n",
    "            results.append([basin_id, theta_rad_events_annualmax, theta_rad_events_POT, theta_rad_events_COM])\n",
    "            print(f\"Ergebnis für Basin ID {basin_id} wurde erfolgreich gespeichert.\")\n",
    "\n",
    "        except Exception as e:\n",
    "            print(f\"Fehler beim Ausführen des Notebooks für Basin ID {basin_id}: {e}\")\n",
    "\n",
    "    # Convert the list of results into a 2D numpy array\n",
    "    results_array = np.array(results, dtype=object)  # Use dtype=object if the arrays are of different shapes\n",
    "\n",
    "    # Save results as a numpy file (including basin_id in the first column)\n",
    "    #np.save('classification_results.npy', results_array)\n",
    "\n",
    "    print(\"Ergebnisse wurden in 'classification_results.npy' gespeichert.\")\n",
    "\n",
    "# Start the function\n",
    "run_regime_classification(ids)\n",
    "\n"
   ],
   "id": "ef50eab188344a1a",
   "outputs": [
    {
     "name": "stdout",
     "output_type": "stream",
     "text": [
      "Verarbeite Basin ID: 2327\n",
      "this is  a test\n",
      "[2.77148722 2.80591563 2.77148722 2.96992092 3.75269698 2.4444173\n",
      " 2.85755825 2.90125223 3.30512761 3.13298555 3.06412873 2.64374464\n",
      " 2.53048833 2.65098777 3.16741396 2.9870881  3.09855714 2.7198446\n",
      " 2.65098777 3.75961088 3.08134293 3.85598222 2.70263039 2.81541637\n",
      " 4.04533849 2.39277468 3.15019976 2.59224312 2.49605992 2.78870142\n",
      " 2.53048833 2.9870881  2.92641507 2.4616315  2.73705881 2.90125223\n",
      " 2.70263039 2.56491674 2.80591563 4.17162303 4.76833515]\n",
      "\n",
      "Ergebnis für Basin ID 2327 wurde erfolgreich gespeichert.\n",
      "Ergebnisse wurden in 'classification_results.npy' gespeichert.\n"
     ]
    }
   ],
   "execution_count": 18
  },
  {
   "metadata": {},
   "cell_type": "code",
   "outputs": [],
   "execution_count": null,
   "source": "",
   "id": "26aa198b78c83c2f"
  }
 ],
 "metadata": {
  "kernelspec": {
   "display_name": "Python 3",
   "language": "python",
   "name": "python3"
  },
  "language_info": {
   "codemirror_mode": {
    "name": "ipython",
    "version": 2
   },
   "file_extension": ".py",
   "mimetype": "text/x-python",
   "name": "python",
   "nbconvert_exporter": "python",
   "pygments_lexer": "ipython2",
   "version": "2.7.6"
  }
 },
 "nbformat": 4,
 "nbformat_minor": 5
}
