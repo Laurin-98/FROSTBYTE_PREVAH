{
 "cells": [
  {
   "metadata": {},
   "cell_type": "markdown",
   "source": [
    "## Precipitation data\n",
    "The precipitation-data is from Meteostations of MeteoSchweiz. All stations that existed between 1997 and 2023 are taken into account."
   ],
   "id": "bd77bd5e8b4e1560"
  },
  {
   "cell_type": "code",
   "id": "initial_id",
   "metadata": {
    "collapsed": true,
    "ExecuteTime": {
     "end_time": "2024-10-22T06:58:21.398195Z",
     "start_time": "2024-10-22T06:58:21.129746Z"
    }
   },
   "source": [
    "# In this cell, the precipitation data from 1997 and 2023 are read in to extract the meteo stations that existed over the entire period.\n",
    "\n",
    "import pandas as pd\n",
    "\n",
    "# List of file paths\n",
    "file_paths = [\n",
    "    'C:/Users/lauri/PycharmProjects/test_project_LNU/data/precip_climap/Niederschlag_1997.csv',\n",
    "    'C:/Users/lauri/PycharmProjects/test_project_LNU/data/precip_climap/Niederschlag_2023.csv'\n",
    "]\n",
    "\n",
    "def process_file(file_path):\n",
    "    # Read the data\n",
    "    df = pd.read_csv(file_path, sep=';', header=0)  # Set separator to semicolon\n",
    "\n",
    "    # Remove whitespace from column names\n",
    "    df.columns = df.columns.str.strip()\n",
    "\n",
    "    # Ensure that the relevant columns have the correct data types\n",
    "    if 'JAHR' in df.columns:\n",
    "        df['JAHR'] = df['JAHR'].astype(int)\n",
    "    if 'MO' in df.columns:\n",
    "        df['MO'] = df['MO'].astype(int)\n",
    "    if 'TG' in df.columns:\n",
    "        df['TG'] = df['TG'].astype(int)\n",
    "\n",
    "    return df\n",
    "\n",
    "# Process the data\n",
    "df_1997 = process_file(file_paths[0])\n",
    "df_2023 = process_file(file_paths[1])\n",
    "\n",
    "# Remove rows with value 32767 in the last column\n",
    "df_1997_cleaned = df_1997[df_1997.iloc[:, -1] != 32767]\n",
    "df_2023_cleaned = df_2023[df_2023.iloc[:, -1] != 32767]\n",
    "\n",
    "# Get the unique station numbers from both years\n",
    "stations_1997 = set(df_1997_cleaned['STA'])\n",
    "stations_2023 = set(df_2023_cleaned['STA'])\n",
    "\n",
    "# Find common stations\n",
    "common_stations = list(stations_1997.intersection(stations_2023))\n",
    "\n",
    "# Output the list of common stations\n",
    "print(\"Common station numbers (STA) in the years 1997 and 2023:\")\n",
    "print(common_stations)\n",
    "\n",
    "# Count of unique common stations\n",
    "number_of_common_stations = len(common_stations)\n",
    "print(f\"\\nNumber of common stations: {number_of_common_stations}\")\n"
   ],
   "outputs": [
    {
     "name": "stdout",
     "output_type": "stream",
     "text": [
      "Common station numbers (STA) in the years 1997 and 2023:\n",
      "[1, 2, 3, 4, 6, 7, 8, 9, 10, 11, 13, 14, 15, 17, 18, 19, 22, 23, 24, 25, 26, 27, 28, 29, 30, 31, 32, 34, 35, 36, 37, 38, 39, 40, 41, 42, 43, 44, 45, 46, 47, 48, 49, 50, 51, 52, 53, 54, 56, 57, 58, 59, 60, 61, 62, 63, 64, 65, 66, 67, 68, 69, 70, 71, 72, 73, 74, 75, 76, 77, 78, 79, 80, 81, 82, 83, 84, 85, 86, 87, 88, 89, 91, 92, 95, 96, 97, 98, 103, 104, 105, 106, 113, 116, 117, 118, 120, 123, 124, 127, 129, 131, 140, 141, 143, 148, 151, 152, 153, 154, 155, 156, 157, 159, 161, 162, 165, 167, 172, 175, 177, 178, 182, 183, 184, 185, 186, 187, 188, 190, 191, 192, 196, 198, 204, 205, 206, 211, 215, 219, 224, 228, 229, 230, 231, 233, 236, 237, 239, 240, 242, 243, 244, 246, 247, 248, 249, 254, 255, 256, 257, 259, 262, 266, 270, 272, 274, 276, 279, 280, 281, 286, 290, 294, 296, 297, 298, 299, 301, 302, 304, 306, 307, 308, 309, 311, 313, 316, 317, 318, 319, 320, 321, 324, 326, 327, 328, 330, 332, 336, 338, 341, 342, 343, 344, 350, 352, 355, 357, 358, 360, 361, 364, 365, 366, 369, 370, 373, 374, 375, 377, 378, 379, 380, 383, 384, 385, 386, 388, 389, 393, 396, 401, 403, 404, 405, 407, 409, 415, 417, 419, 423, 424, 425, 426, 429, 431, 432, 433, 436, 437, 439, 440, 442, 451, 455, 456, 458, 459, 460, 461, 462, 465, 466, 468, 472, 475, 488, 502, 506, 507, 510, 513, 516, 517, 520, 521, 525, 527, 531, 533, 534, 535, 536, 540, 548, 549, 557, 560, 561, 565, 569, 570, 571, 574, 578, 593, 606, 607, 609, 612, 630, 634, 636, 638, 641, 645, 647, 649, 651, 653, 654, 655, 658, 661, 662, 665, 666, 667, 668, 669, 682, 685, 687, 694, 695, 699, 700, 703, 706, 708, 711, 712, 713, 714, 718, 723, 724, 726, 729, 736, 737, 738, 739, 740, 743, 746, 747, 748, 749, 751, 752, 753, 754, 756, 757, 758, 762, 763, 765, 767, 771, 773, 775, 776, 778, 779, 780, 782, 783, 785, 787, 788, 789, 791, 792, 793, 795, 796, 797, 799, 800, 803, 806, 818, 833, 835, 838, 842, 843, 848, 849, 852, 854, 857, 874, 915, 922, 923, 946, 947, 950, 951, 968]\n",
      "\n",
      "Number of common stations: 404\n"
     ]
    }
   ],
   "execution_count": 14
  },
  {
   "metadata": {
    "ExecuteTime": {
     "end_time": "2024-10-22T06:58:21.754789Z",
     "start_time": "2024-10-22T06:58:21.420118Z"
    }
   },
   "cell_type": "code",
   "source": [
    "# Filters the P-stations which are present in 1997 and 2023 and transforms the coordinates to LV95\n",
    "import pandas as pd\n",
    "import xarray as xr\n",
    "import numpy as np\n",
    "\n",
    "# Pfad zur CSV-Datei\n",
    "file_path = \"N:/gebhyd/3_Hyv/Diplomanden/2_Running/L_Nuesch/P_Data_reshape/P_Stationen.csv\"\n",
    "\n",
    "# CSV-Datei einlesen mit Semikolon als Trennzeichen\n",
    "df = pd.read_csv(file_path, sep=';', header=None)\n",
    "df = df[df[0].isin(common_stations)]\n",
    "\n",
    "# Überprüfen der geladenen Daten\n",
    "#print(\"Geladene Daten:\")\n",
    "#print(df.head())\n",
    "# Gefilterten DataFrame als CSV speichern\n",
    "#df.to_csv('../CH_data/preprocessed_P_data/P_Stationen_filltered.csv', sep=';', index=False, header=False)\n",
    "\n",
    "\n",
    "# Die Anzahl der Spalten prüfen\n",
    "print(f\"Anzahl der Spalten: {df.shape[1]}\")\n",
    "\n",
    "# Die Spalten umbenennen, wenn die richtige Anzahl an Spalten vorhanden ist\n",
    "if df.shape[1] == 6:\n",
    "    df.columns = ['STA', 'Name', 'Elevation', 'Unit', 'Lon', 'Lat']\n",
    "    # Umrechnung von LV03 nach LV95\n",
    "    df['Lon'] = df['Lon'] + 2000000\n",
    "    df['Lat'] = df['Lat'] + 1000000\n",
    "else:\n",
    "    raise ValueError(f\"Unerwartete Anzahl von Spalten: {df.shape[1]}\")\n",
    "\n",
    "\n",
    "df.to_csv('../CH_data/preprocessed_P_data/P_Stationen_filltered.csv', sep=';', index=False, header=False)\n"
   ],
   "id": "3ccb62fe8896faed",
   "outputs": [
    {
     "name": "stdout",
     "output_type": "stream",
     "text": [
      "Anzahl der Spalten: 6\n"
     ]
    },
    {
     "data": {
      "text/plain": [
       "\"\\n# Station Metadata extrahieren und vorbereiten\\nstations = {}\\nfor _, row in df.iterrows():\\n    station_id = int(row['STA'])\\n    station_name = row['Name']\\n    elevation = int(row['Elevation'])\\n    lon = float(row['Lon'])  # Longitude aus der DataFrame nehmen\\n    lat = float(row['Lat'])   # Latitude aus der DataFrame nehmen\\n    stations[station_id] = {\\n        'name': station_name,\\n        'elevation': elevation,\\n        'longitude': lon,\\n        'latitude': lat\\n    }\\n\\n# Erstellen des xarray Datasets\\n# Erstellen der DataArrays für LLE\\nlle_data = xr.DataArray(\\n    np.array([[station['longitude'], station['latitude'], station['elevation']] for station in stations.values()]),\\n    dims=['station', 'lle'],  # Ändern der Dimension von 'LLE' zu 'lle'\\n    coords={\\n        'station': list(stations.keys()),\\n        'lle': ['lon', 'lat', 'elev']  # Korrigierte Koordinatenbenennung\\n    }\\n)\\n\\n# Leere DataArray für Niederschlag und Datum erstellen\\n# Angenommen, dass wir später nday Daten hinzufügen werden\\nnday = 0  # Aktuell keine Daten, kann später aktualisiert werden\\n# Hier initialisieren wir nday als leeres Array für zukünftige Zeitstempel\\nnday_coords = np.array([], dtype='datetime64[ns]')  # Leeres Array für nday-Koordinaten\\nprecipitation = xr.DataArray(\\n    np.full((nday, len(stations)), np.nan),  # Leeres Array für Niederschlag\\n    dims=['nday', 'station'],  # Ändern der Dimension von 'date' zu 'nday'\\n    coords={\\n        'nday': nday_coords,  # Leeres Koordinaten-Array für nday\\n        'station': list(stations.keys())\\n    }\\n)\\n\\n# Erstellen des finalen Datasets\\nds = xr.Dataset(\\n    {\\n        'LLE': lle_data,  # Die Variable bleibt als 'LLE'\\n        'precipitation': precipitation\\n    }\\n)\\n\\n# Hinzufügen der Stationen zu den Attributen\\nfor station_id, metadata in stations.items():\\n    ds.attrs[f'station_{station_id}'] = {\\n        'name': metadata['name'],\\n        'elevation': metadata['elevation'],\\n        'longitude': metadata['longitude'],\\n        'latitude': metadata['latitude']\\n    }\\n\\n# Ausgabe des Datasets\\np_data_xarray = ds\\nprint(p_data_xarray)\\n\""
      ]
     },
     "execution_count": 15,
     "metadata": {},
     "output_type": "execute_result"
    }
   ],
   "execution_count": 15
  },
  {
   "metadata": {
    "ExecuteTime": {
     "end_time": "2024-10-22T06:58:23.606005Z",
     "start_time": "2024-10-22T06:58:21.927534Z"
    }
   },
   "cell_type": "code",
   "source": [
    "# Funktion damit es beim einlesen erst die Zeile einliest wo die P daten enthalten sind\n",
    "import pandas as pd\n",
    "\n",
    "# Pfad zur .dat-Datei\n",
    "file_path = \"N:/gebhyd/3_Hyv/Diplomanden/2_Running/L_Nuesch/P_Data_reshape/rawdata/P_1998.dat\"\n",
    "\n",
    "# Datei zuerst manuell zeilenweise einlesen, um die Startzeile zu finden\n",
    "with open(file_path, 'r') as file:\n",
    "    lines = file.readlines()\n",
    "\n",
    "# Finde die Zeile, die den Header enthält\n",
    "start_line = 0\n",
    "for i, line in enumerate(lines):\n",
    "    if 'STA JAHR MO TG HH MM' in line:\n",
    "        start_line = i\n",
    "        break\n",
    "\n",
    "# Lade nur die Daten ab der Zeile des Headers\n",
    "df = pd.read_csv(file_path, sep='\\s+', skiprows=start_line + 1, header=None)\n",
    "\n",
    "# Die Spalten umbenennen\n",
    "df.columns = ['STA', 'JAHR', 'MO', 'TG', 'HH', 'MM', '236']\n",
    "\n",
    "# Optional: Um \"32767\" (vermutlich ein Fehldatenwert) in NaN umwandeln\n",
    "df['236'].replace(32767, float('nan'), inplace=True)\n",
    "\n",
    "# Pandas Anzeigeoptionen für ein besseres Layout\n",
    "pd.set_option('display.float_format', '{:.2f}'.format)  # Zahlenformatierung auf 2 Dezimalstellen\n",
    "pd.set_option('display.max_columns', None)  # Zeige alle Spalten\n",
    "\n",
    "# Ausgabe anzeigen\n",
    "print(df.head(10))  # Zeige die ersten 10 Zeilen an\n",
    "\n"
   ],
   "id": "33966efd03f8083d",
   "outputs": [
    {
     "name": "stdout",
     "output_type": "stream",
     "text": [
      "   STA  JAHR  MO  TG  HH  MM   236\n",
      "0   54  1997  10   1  12  20   nan\n",
      "1   54  1997  10   2   0   0  0.00\n",
      "2   54  1997  10   3   0   0  0.00\n",
      "3   54  1997  10   4   0   0  0.00\n",
      "4   54  1997  10   5   0   0  0.00\n",
      "5   54  1997  10   6   0   0  0.00\n",
      "6   54  1997  10   7   0   0  0.00\n",
      "7   54  1997  10   8   0   0  0.00\n",
      "8   54  1997  10   9   0   0  0.00\n",
      "9   54  1997  10  10   0   0 25.60\n"
     ]
    }
   ],
   "execution_count": 16
  },
  {
   "metadata": {
    "ExecuteTime": {
     "end_time": "2024-10-22T06:59:22.969272Z",
     "start_time": "2024-10-22T06:58:23.621888Z"
    }
   },
   "cell_type": "code",
   "source": [
    "# reads all datafiles from 1997 until 2024 and stores them into one .csv file (P_combined_1998_2023.csv)\n",
    "import pandas as pd\n",
    "import os\n",
    "\n",
    "# Pfad zu dem Verzeichnis, das die .dat-Dateien enthält\n",
    "directory_path = \"N:/gebhyd/3_Hyv/Diplomanden/2_Running/L_Nuesch/P_Data_reshape/rawdata/\"\n",
    "\n",
    "# Leerer DataFrame, um alle Daten zu speichern\n",
    "combined_df = pd.DataFrame()\n",
    "\n",
    "# Liste aller Jahre, für die Dateien existieren (z.B. 1998 bis 2023)\n",
    "years = range(1997,2025)\n",
    "\n",
    "# Schleife über jedes Jahr\n",
    "for year in years:\n",
    "    file_path = os.path.join(directory_path, f'P_{year}.dat')\n",
    "    print \n",
    "\n",
    "    # Datei zuerst manuell zeilenweise einlesen, um die Startzeile zu finden\n",
    "    with open(file_path, 'r') as file:\n",
    "        lines = file.readlines()\n",
    "\n",
    "    # Finde die Zeile, die den Header enthält\n",
    "    start_line = 0\n",
    "    for i, line in enumerate(lines):\n",
    "        if 'STA JAHR MO TG HH MM' in line:\n",
    "            start_line = i\n",
    "            break\n",
    "\n",
    "    # Lade nur die Daten ab der Zeile des Headers\n",
    "    df = pd.read_csv(file_path, sep='\\s+', skiprows=start_line + 1, header=None)\n",
    "\n",
    "    # Die Spalten umbenennen\n",
    "    df.columns = ['STA', 'JAHR', 'MO', 'TG', 'HH', 'MM', '236']\n",
    "    \n",
    "    # Filtere nur die Zeilen, die in `common_stations` vorkommen\n",
    "    df = df[df['STA'].isin(common_stations)]\n",
    "\n",
    "    # Optional: Um \"32767\" (vermutlich ein Fehldatenwert) in NaN umwandeln\n",
    "    df['236'].replace(32767, float('nan'), inplace=True)\n",
    "\n",
    "    # Füge die Daten zum kombinierten DataFrame hinzu\n",
    "    combined_df = pd.concat([combined_df, df], ignore_index=True)\n",
    "\n",
    "# Duplikate entfernen basierend auf relevanten Spalten\n",
    "combined_df.drop_duplicates(subset=['STA', 'JAHR', 'MO', 'TG', 'HH', 'MM'], inplace=True)\n",
    "\n",
    "# Optional: Sortiere die Daten nach Datum und Uhrzeit\n",
    "#combined_df.sort_values(by=['STA', 'JAHR', 'MO', 'TG', 'HH', 'MM'], inplace=True)\n",
    "\n",
    "# Pandas Anzeigeoptionen für ein besseres Layout\n",
    "pd.set_option('display.float_format', '{:.2f}'.format)  # Zahlenformatierung auf 2 Dezimalstellen\n",
    "pd.set_option('display.max_columns', None)  # Zeige alle Spalten\n",
    "\n",
    "# Ausgabe der ersten Zeilen der kombinierten Daten\n",
    "print(combined_df.head(10))  # Zeige die ersten 10 Zeilen an\n",
    "\n",
    "print(f\"Anzahl der Zeilen im kombinierten DataFrame: {combined_df.shape[0]}\")\n",
    "\n",
    "# Optional: Kombinierte Daten als CSV speichern (alle daten von 1997 bis 2024 in einem csv file)\n",
    "combined_df.to_csv('../CH_data/preprocessed_P_data/P_combined_1998_2023.csv', sep=';', index=False)\n"
   ],
   "id": "7b856b20801a07d8",
   "outputs": [
    {
     "name": "stdout",
     "output_type": "stream",
     "text": [
      "   STA  JAHR  MO  TG  HH  MM  236\n",
      "0   54  1996  10   1   8  50  nan\n",
      "1   54  1996  10   2   0   0 1.40\n",
      "2   54  1996  10   3   0   0 0.00\n",
      "3   54  1996  10   4   0   0 0.00\n",
      "4   54  1996  10   5   0   0 6.20\n",
      "5   54  1996  10   6   0   0 0.00\n",
      "6   54  1996  10   7   0   0 0.00\n",
      "7   54  1996  10   8   0   0 0.20\n",
      "8   54  1996  10   9   0   0 0.10\n",
      "9   54  1996  10  10   0   0 3.30\n",
      "Anzahl der Zeilen im kombinierten DataFrame: 4143020\n"
     ]
    }
   ],
   "execution_count": 17
  },
  {
   "metadata": {
    "ExecuteTime": {
     "end_time": "2024-10-22T07:14:17.794183Z",
     "start_time": "2024-10-22T07:08:49.772887Z"
    }
   },
   "cell_type": "code",
   "source": [
    "# creates a xarray with all data (ds) and stores it as netCDF (P_data.nc)\n",
    "import pandas as pd\n",
    "import xarray as xr\n",
    "import numpy as np\n",
    "\n",
    "# Schritt 1: Daten einlesen\n",
    "# P_Stationen_filltered.csv einlesen\n",
    "stations_df = pd.read_csv('../CH_data/preprocessed_P_data/P_Stationen_filltered.csv', sep=';', header=None)\n",
    "stations_df.columns = ['STA', 'Name', 'unknown1', 'unknown2', 'lon', 'lat']\n",
    "\n",
    "# P_combined_1998_2023.csv einlesen (das sind P daten)\n",
    "combined_df = pd.read_csv('../CH_data/preprocessed_P_data/P_combined_1998_2023.csv', sep=';')\n",
    "\n",
    "# Schritt 2: Nday und Precipitation Daten erstellen\n",
    "# Erstelle eine nday Spalte\n",
    "combined_df['nday'] = pd.to_datetime(combined_df[['JAHR', 'MO', 'TG']].astype(str).agg('-'.join, axis=1))\n",
    "\n",
    "# Extrahiere die benötigten Daten für Precipitation\n",
    "precipitation_data = combined_df.pivot_table(index='nday', columns='STA', values='236', aggfunc='first')\n",
    "\n",
    "# Schritt 3: xarray Dataset erstellen\n",
    "# Erstelle die Koordinaten für das Dataset\n",
    "stations = stations_df['STA'].unique()\n",
    "lon = stations_df['lon'].values\n",
    "lat = stations_df['lat'].values\n",
    "elev = np.zeros_like(stations)  # Dummy-Werte für Elevation\n",
    "lle = ['lon', 'lat', 'elev']\n",
    "\n",
    "# Erstelle das Dataset\n",
    "ds = xr.Dataset(\n",
    "    {\n",
    "        'LLE': (('station', 'lle'), np.column_stack([lon, lat, elev])),\n",
    "        'precipitation': (('nday', 'station'), precipitation_data.values),\n",
    "    },\n",
    "    coords={\n",
    "        'station': ('station', stations),\n",
    "        'nday': ('nday', precipitation_data.index),\n",
    "        'lle': lle,\n",
    "    },\n",
    ")\n",
    "\n",
    "# Schritt 4: Werte für LLE hinzufügen\n",
    "for i, station in enumerate(stations):\n",
    "    ds['LLE'][i, 0] = lon[i]  # longitude\n",
    "    ds['LLE'][i, 1] = lat[i]  # latitude\n",
    "    ds['LLE'][i, 2] = elev[i]  # elevation (hier als Dummy-Wert, falls benötigt)\n",
    "\n",
    "# Optional: Überprüfung des Datasets\n",
    "print(ds)\n",
    "ds.to_netcdf('../CH_data/CH_input_data/P_data.nc')\n"
   ],
   "id": "9c5a64ea690b7c84",
   "outputs": [
    {
     "name": "stdout",
     "output_type": "stream",
     "text": [
      "<xarray.Dataset>\n",
      "Dimensions:        (lle: 3, nday: 10227, station: 404)\n",
      "Coordinates:\n",
      "  * station        (station) int64 54 338 630 405 409 73 ... 578 593 607 609 818\n",
      "  * nday           (nday) datetime64[ns] 1996-10-02 1996-10-03 ... 2024-10-01\n",
      "  * lle            (lle) <U4 'lon' 'lat' 'elev'\n",
      "Data variables:\n",
      "    LLE            (station, lle) int64 2708189 1173789 0 ... 2831170 1169340 0\n",
      "    precipitation  (nday, station) float64 7.2 8.0 2.8 5.4 ... 53.0 44.9 41.1\n"
     ]
    }
   ],
   "execution_count": 20
  },
  {
   "metadata": {
    "ExecuteTime": {
     "end_time": "2024-10-22T07:05:01.914017Z",
     "start_time": "2024-10-22T07:05:00.322919Z"
    }
   },
   "cell_type": "code",
   "source": [
    "# creates a plot for visual check (one year and one station)\n",
    "import matplotlib.pyplot as plt\n",
    "\n",
    "# Filtere die Daten für Station 466 und das Jahr 2023\n",
    "station_id = 466\n",
    "year = 2023\n",
    "\n",
    "# Holen Sie sich die nday-Daten für das Jahr 2023\n",
    "nday_data = ds['precipitation'].sel(station=station_id)\n",
    "\n",
    "# Filtere die nday-Daten für das Jahr 2023\n",
    "nday_data_2023 = nday_data.sel(nday=slice('2023-01-01', '2023-12-31'))\n",
    "\n",
    "# Plot erstellen\n",
    "plt.figure(figsize=(12, 6))\n",
    "\n",
    "# Erstelle ein Balkendiagramm\n",
    "plt.bar(nday_data_2023['nday'].values, nday_data_2023.values, color='blue', width=0.8)\n",
    "\n",
    "# Titel und Beschriftungen hinzufügen\n",
    "plt.title(f'Precipitation for Station {station_id} in {year}', fontsize=16)\n",
    "plt.xlabel('Date', fontsize=14)\n",
    "plt.ylabel('Precipitation (mm)', fontsize=14)\n",
    "plt.xticks(rotation=45)  # Drehe die x-Achsen-Beschriftungen für bessere Lesbarkeit\n",
    "plt.grid(axis='y')  # Optional: Rasterlinien nur für die y-Achse anzeigen\n",
    "plt.tight_layout()\n",
    "\n",
    "# Plot anzeigen\n",
    "plt.show()\n"
   ],
   "id": "4af15f3757e6add4",
   "outputs": [
    {
     "data": {
      "text/plain": [
       "<Figure size 1200x600 with 1 Axes>"
      ],
      "image/png": "[encoded data removed]"
     },
     "metadata": {},
     "output_type": "display_data"
    }
   ],
   "execution_count": 19
  },
  {
   "metadata": {
    "ExecuteTime": {
     "end_time": "2024-10-22T07:05:02.070251Z",
     "start_time": "2024-10-22T07:05:02.057287Z"
    }
   },
   "cell_type": "code",
   "source": "",
   "id": "3f50b6a3c1c2c11",
   "outputs": [],
   "execution_count": null
  }
 ],
 "metadata": {
  "kernelspec": {
   "display_name": "Python 3",
   "language": "python",
   "name": "python3"
  },
  "language_info": {
   "codemirror_mode": {
    "name": "ipython",
    "version": 2
   },
   "file_extension": ".py",
   "mimetype": "text/x-python",
   "name": "python",
   "nbconvert_exporter": "python",
   "pygments_lexer": "ipython2",
   "version": "2.7.6"
  }
 },
 "nbformat": 4,
 "nbformat_minor": 5
}
