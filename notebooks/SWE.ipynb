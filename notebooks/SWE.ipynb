{
 "cells": [
  {
   "metadata": {
    "ExecuteTime": {
     "end_time": "2024-10-22T13:19:14.462564Z",
     "start_time": "2024-10-22T13:19:11.610330Z"
    }
   },
   "cell_type": "code",
   "source": [
    "# load and reform xarray\n",
    "import numpy as np\n",
    "import xarray as xr\n",
    "\n",
    "# Lade die .nc Datei\n",
    "file_path = 'N:/gebhyd/3_Hyv/Diplomanden/2_Running/L_Nuesch/SWE_envidat/TI_1998_2022_LNU1.nc'\n",
    "SWE_envidat = xr.open_dataset(file_path)\n",
    "\n",
    "SWE_envidat = SWE_envidat.rename({'xx': 'lon', 'yy': 'lat'})\n",
    "\n",
    "# Angenommen, dein Dataset heißt SWE_envidat\n",
    "# Extrahiere die Koordinaten\n",
    "lon = SWE_envidat.coords['lon'].values\n",
    "lat = SWE_envidat.coords['lat'].values\n",
    "\n",
    "# Erstelle die station_ids im Format \"lon_lat\"\n",
    "station_ids = [f\"{lon_val}_{lat_val}\" for lat_val in lat for lon_val in lon]\n",
    "\n",
    "# Konvertiere die Liste in ein eindimensionales NumPy-Array\n",
    "station_ids_array = np.array(station_ids)\n",
    "\n",
    "# Füge die station_id als eindimensionale Koordinate hinzu\n",
    "SWE_envidat = SWE_envidat.assign_coords(station_id=('station_id', station_ids_array))\n",
    "\n",
    "\n",
    "SWE_envidat = SWE_envidat.drop_vars(['dem', 'open', 'forest', 'romc_all'])\n",
    "# Variable 'swee_all' in 'swe' umbenennen\n",
    "SWE_envidat = SWE_envidat.rename({'swee_all': 'swe'})\n",
    "# Ausgabe des aktualisierten Datasets\n",
    "print(SWE_envidat)\n"
   ],
   "id": "56adced8eb354a24",
   "outputs": [
    {
     "name": "stdout",
     "output_type": "stream",
     "text": [
      "<xarray.Dataset>\n",
      "Dimensions:          (lat: 272, lon: 365, station_id: 99280, time: 8704)\n",
      "Coordinates:\n",
      "  * lon              (lon) float64 4.74e+05 4.75e+05 ... 8.37e+05 8.38e+05\n",
      "  * lat              (lat) float64 5.3e+04 5.4e+04 5.5e+04 ... 3.23e+05 3.24e+05\n",
      "  * time             (time) datetime64[ns] 1998-09-01 1998-09-02 ... 2022-06-30\n",
      "  * station_id       (station_id) <U17 '474000.0_53000.0' ... '838000.0_324000.0'\n",
      "Data variables:\n",
      "    Projection_Type  float64 ...\n",
      "    swe              (time, lat, lon) float64 ...\n",
      "Attributes:\n",
      "    date_created:                  09-Jun-2023 16:30:30\n",
      "    creator_name:                  Rebecca Mott\n",
      "    project:                       FSM2\n",
      "    geospatial_lat_min:            []\n",
      "    geospatial_lat_max:            []\n",
      "    geospatial_lon_min:            []\n",
      "    geospatial_lon_max:            []\n",
      "    geospatial_lat_units:          m\n",
      "    geospatial_lon_units:          m\n",
      "    geospatial_vertical_min:       []\n",
      "    geospatial_vertical_max:       []\n",
      "    geospatial_vertical_units:     m\n",
      "    geospatial_vertical_positive:  up\n",
      "    time_coverage_start:           \n",
      "    time_coverage_end:             \n",
      "    jim_operational_commit:        \n",
      "    creator_email:                 mott@slf.ch\n",
      "    title:                         FSM2 results variables\n",
      "    summary:                       This file contains daily outputs of FSM2 r...\n",
      "    soilgrid:                      []\n"
     ]
    }
   ],
   "execution_count": 1
  },
  {
   "metadata": {
    "ExecuteTime": {
     "end_time": "2024-10-22T13:19:14.540602Z",
     "start_time": "2024-10-22T13:19:14.533586Z"
    }
   },
   "cell_type": "code",
   "source": [
    "# Schritt 1: Lösche die bestehende station_id, falls vorhanden\n",
    "if 'station_id' in SWE_envidat.coords:\n",
    "    SWE_envidat = SWE_envidat.drop_vars('station_id')"
   ],
   "id": "3fb4e71f30f4316f",
   "outputs": [],
   "execution_count": 2
  },
  {
   "metadata": {
    "ExecuteTime": {
     "end_time": "2024-10-22T13:19:16.209214Z",
     "start_time": "2024-10-22T13:19:16.199364Z"
    }
   },
   "cell_type": "code",
   "source": [
    "# Schritt 2: Längen und Breiten für jede Station in einer flachen Liste erstellen\n",
    "flat_lon = SWE_envidat.lon.values.flatten()\n",
    "flat_lat = SWE_envidat.lat.values.flatten()\n",
    "\n"
   ],
   "id": "47372072058d83d8",
   "outputs": [],
   "execution_count": 3
  },
  {
   "metadata": {
    "ExecuteTime": {
     "end_time": "2024-10-22T13:19:17.158042Z",
     "start_time": "2024-10-22T13:19:17.146870Z"
    }
   },
   "cell_type": "code",
   "source": [
    "# Schritt 3: Erstelle die neue Station_ID als Kombination von lon und lat\n",
    "station_ids = [f\"{lon}_{lat}\" for lon, lat in zip(flat_lon, flat_lat)]\n",
    "\n"
   ],
   "id": "6a1bee4f96f74d2d",
   "outputs": [],
   "execution_count": 4
  },
  {
   "metadata": {
    "ExecuteTime": {
     "end_time": "2024-10-22T13:26:35.834355Z",
     "start_time": "2024-10-22T13:19:18.213426Z"
    }
   },
   "cell_type": "code",
   "source": [
    "# Schritt 4: Umstrukturieren des Datasets auf die Dimensionen 'Station_ID' und 'time'\n",
    "SWE_envidat_stacked = SWE_envidat.stack(Station_ID=(\"lat\", \"lon\"))\n",
    "\n"
   ],
   "id": "25a2fa2be71fc6d9",
   "outputs": [],
   "execution_count": 5
  },
  {
   "metadata": {
    "ExecuteTime": {
     "end_time": "2024-10-22T13:26:42.454472Z",
     "start_time": "2024-10-22T13:26:42.434414Z"
    }
   },
   "cell_type": "code",
   "source": "print(SWE_envidat_stacked)",
   "id": "1d8c4a0af4ca4eb1",
   "outputs": [
    {
     "name": "stdout",
     "output_type": "stream",
     "text": [
      "<xarray.Dataset>\n",
      "Dimensions:          (Station_ID: 99280, time: 8704)\n",
      "Coordinates:\n",
      "  * time             (time) datetime64[ns] 1998-09-01 1998-09-02 ... 2022-06-30\n",
      "  * Station_ID       (Station_ID) MultiIndex\n",
      "  - lat              (Station_ID) float64 5.3e+04 5.3e+04 ... 3.24e+05 3.24e+05\n",
      "  - lon              (Station_ID) float64 4.74e+05 4.75e+05 ... 8.38e+05\n",
      "Data variables:\n",
      "    Projection_Type  float64 ...\n",
      "    swe              (time, Station_ID) float64 -9.999e+03 ... -9.999e+03\n",
      "Attributes:\n",
      "    date_created:                  09-Jun-2023 16:30:30\n",
      "    creator_name:                  Rebecca Mott\n",
      "    project:                       FSM2\n",
      "    geospatial_lat_min:            []\n",
      "    geospatial_lat_max:            []\n",
      "    geospatial_lon_min:            []\n",
      "    geospatial_lon_max:            []\n",
      "    geospatial_lat_units:          m\n",
      "    geospatial_lon_units:          m\n",
      "    geospatial_vertical_min:       []\n",
      "    geospatial_vertical_max:       []\n",
      "    geospatial_vertical_units:     m\n",
      "    geospatial_vertical_positive:  up\n",
      "    time_coverage_start:           \n",
      "    time_coverage_end:             \n",
      "    jim_operational_commit:        \n",
      "    creator_email:                 mott@slf.ch\n",
      "    title:                         FSM2 results variables\n",
      "    summary:                       This file contains daily outputs of FSM2 r...\n",
      "    soilgrid:                      []\n"
     ]
    }
   ],
   "execution_count": 6
  },
  {
   "metadata": {
    "ExecuteTime": {
     "end_time": "2024-10-22T13:35:33.340743Z",
     "start_time": "2024-10-22T13:35:33.332765Z"
    }
   },
   "cell_type": "code",
   "source": [
    "# Schritt 5: Konvertiere MultiIndex zurück in einen Dataset mit den neuen Koordinaten\n",
    "SWE_envidat_stacked = SWE_envidat_stacked.reset_index('Station_ID')\n",
    "\n"
   ],
   "id": "c4dcc82f9fa60544",
   "outputs": [],
   "execution_count": 8
  },
  {
   "metadata": {
    "ExecuteTime": {
     "end_time": "2024-10-22T13:35:44.241214Z",
     "start_time": "2024-10-22T13:35:44.219273Z"
    }
   },
   "cell_type": "code",
   "source": "print(SWE_envidat_stacked)",
   "id": "669bbb8d4367541a",
   "outputs": [
    {
     "name": "stdout",
     "output_type": "stream",
     "text": [
      "<xarray.Dataset>\n",
      "Dimensions:          (Station_ID: 99280, time: 8704)\n",
      "Coordinates:\n",
      "  * time             (time) datetime64[ns] 1998-09-01 1998-09-02 ... 2022-06-30\n",
      "    lat              (Station_ID) float64 5.3e+04 5.3e+04 ... 3.24e+05 3.24e+05\n",
      "    lon              (Station_ID) float64 4.74e+05 4.75e+05 ... 8.38e+05\n",
      "Dimensions without coordinates: Station_ID\n",
      "Data variables:\n",
      "    Projection_Type  float64 ...\n",
      "    swe              (time, Station_ID) float64 -9.999e+03 ... -9.999e+03\n",
      "Attributes:\n",
      "    date_created:                  09-Jun-2023 16:30:30\n",
      "    creator_name:                  Rebecca Mott\n",
      "    project:                       FSM2\n",
      "    geospatial_lat_min:            []\n",
      "    geospatial_lat_max:            []\n",
      "    geospatial_lon_min:            []\n",
      "    geospatial_lon_max:            []\n",
      "    geospatial_lat_units:          m\n",
      "    geospatial_lon_units:          m\n",
      "    geospatial_vertical_min:       []\n",
      "    geospatial_vertical_max:       []\n",
      "    geospatial_vertical_units:     m\n",
      "    geospatial_vertical_positive:  up\n",
      "    time_coverage_start:           \n",
      "    time_coverage_end:             \n",
      "    jim_operational_commit:        \n",
      "    creator_email:                 mott@slf.ch\n",
      "    title:                         FSM2 results variables\n",
      "    summary:                       This file contains daily outputs of FSM2 r...\n",
      "    soilgrid:                      []\n"
     ]
    }
   ],
   "execution_count": 9
  },
  {
   "metadata": {
    "ExecuteTime": {
     "end_time": "2024-10-22T13:36:47.800393Z",
     "start_time": "2024-10-22T13:36:47.565625Z"
    }
   },
   "cell_type": "code",
   "source": [
    "# Schritt 6: Erstelle die neue Station_ID als Kombination aus lat und lon\n",
    "SWE_envidat_stacked['Station_ID'] = [f\"{lon}_{lat}\" for lon, lat in zip(SWE_envidat_stacked['lon'].values, SWE_envidat_stacked['lat'].values)]\n",
    "\n",
    "# Schritt 7: Überprüfe das neu strukturierte Dataset\n",
    "print(SWE_envidat_stacked)"
   ],
   "id": "bad7aa8f17a5f126",
   "outputs": [
    {
     "name": "stdout",
     "output_type": "stream",
     "text": [
      "<xarray.Dataset>\n",
      "Dimensions:          (Station_ID: 99280, time: 8704)\n",
      "Coordinates:\n",
      "  * time             (time) datetime64[ns] 1998-09-01 1998-09-02 ... 2022-06-30\n",
      "    lat              (Station_ID) float64 5.3e+04 5.3e+04 ... 3.24e+05 3.24e+05\n",
      "    lon              (Station_ID) float64 4.74e+05 4.75e+05 ... 8.38e+05\n",
      "  * Station_ID       (Station_ID) <U17 '474000.0_53000.0' ... '838000.0_324000.0'\n",
      "Data variables:\n",
      "    Projection_Type  float64 ...\n",
      "    swe              (time, Station_ID) float64 -9.999e+03 ... -9.999e+03\n",
      "Attributes:\n",
      "    date_created:                  09-Jun-2023 16:30:30\n",
      "    creator_name:                  Rebecca Mott\n",
      "    project:                       FSM2\n",
      "    geospatial_lat_min:            []\n",
      "    geospatial_lat_max:            []\n",
      "    geospatial_lon_min:            []\n",
      "    geospatial_lon_max:            []\n",
      "    geospatial_lat_units:          m\n",
      "    geospatial_lon_units:          m\n",
      "    geospatial_vertical_min:       []\n",
      "    geospatial_vertical_max:       []\n",
      "    geospatial_vertical_units:     m\n",
      "    geospatial_vertical_positive:  up\n",
      "    time_coverage_start:           \n",
      "    time_coverage_end:             \n",
      "    jim_operational_commit:        \n",
      "    creator_email:                 mott@slf.ch\n",
      "    title:                         FSM2 results variables\n",
      "    summary:                       This file contains daily outputs of FSM2 r...\n",
      "    soilgrid:                      []\n"
     ]
    }
   ],
   "execution_count": 11
  },
  {
   "metadata": {
    "ExecuteTime": {
     "end_time": "2024-10-22T13:38:53.507762Z",
     "start_time": "2024-10-22T13:37:19.398094Z"
    }
   },
   "cell_type": "code",
   "source": [
    "# store the reformed xarray\n",
    "SWE_envidat_stacked.to_netcdf('../CH_data/CH_input_data/SWE_data.nc')"
   ],
   "id": "a974f98c76db6587",
   "outputs": [],
   "execution_count": 13
  },
  {
   "metadata": {
    "ExecuteTime": {
     "end_time": "2024-10-22T09:55:27.500582Z",
     "start_time": "2024-10-22T09:55:27.486619Z"
    }
   },
   "cell_type": "code",
   "source": "",
   "id": "66cc20b5299d60a9",
   "outputs": [],
   "execution_count": null
  }
 ],
 "metadata": {
  "kernelspec": {
   "display_name": "Python 3",
   "language": "python",
   "name": "python3"
  },
  "language_info": {
   "codemirror_mode": {
    "name": "ipython",
    "version": 2
   },
   "file_extension": ".py",
   "mimetype": "text/x-python",
   "name": "python",
   "nbconvert_exporter": "python",
   "pygments_lexer": "ipython2",
   "version": "2.7.6"
  }
 },
 "nbformat": 4,
 "nbformat_minor": 5
}
