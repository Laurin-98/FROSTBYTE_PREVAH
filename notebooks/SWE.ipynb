{
 "cells": [
  {
   "cell_type": "code",
   "id": "initial_id",
   "metadata": {
    "collapsed": true,
    "ExecuteTime": {
     "end_time": "2024-10-22T08:29:45.253479Z",
     "start_time": "2024-10-22T08:29:43.377082Z"
    }
   },
   "source": [
    "# read data\n",
    "import xarray as xr\n",
    "\n",
    "# Lade die .nc Datei\n",
    "file_path = 'N:/gebhyd/3_Hyv/Diplomanden/2_Running/L_Nuesch/SWE_envidat/TI_1998_2022_LNU1.nc'\n",
    "SWE_envidat = xr.open_dataset(file_path)\n",
    "\n",
    "# Überblick über den Inhalt der Datei\n",
    "print(SWE_envidat)\n"
   ],
   "outputs": [
    {
     "name": "stdout",
     "output_type": "stream",
     "text": [
      "<xarray.Dataset>\n",
      "Dimensions:          (time: 8704, xx: 365, yy: 272)\n",
      "Coordinates:\n",
      "  * xx               (xx) float64 4.74e+05 4.75e+05 ... 8.37e+05 8.38e+05\n",
      "  * yy               (yy) float64 5.3e+04 5.4e+04 5.5e+04 ... 3.23e+05 3.24e+05\n",
      "  * time             (time) datetime64[ns] 1998-09-01 1998-09-02 ... 2022-06-30\n",
      "Data variables:\n",
      "    Projection_Type  float64 ...\n",
      "    dem              (yy, xx) float64 ...\n",
      "    open             (yy, xx) float64 ...\n",
      "    forest           (yy, xx) float64 ...\n",
      "    swee_all         (time, yy, xx) float64 ...\n",
      "    romc_all         (time, yy, xx) float64 ...\n",
      "Attributes:\n",
      "    date_created:                  09-Jun-2023 16:30:30\n",
      "    creator_name:                  Rebecca Mott\n",
      "    project:                       FSM2\n",
      "    geospatial_lat_min:            []\n",
      "    geospatial_lat_max:            []\n",
      "    geospatial_lon_min:            []\n",
      "    geospatial_lon_max:            []\n",
      "    geospatial_lat_units:          m\n",
      "    geospatial_lon_units:          m\n",
      "    geospatial_vertical_min:       []\n",
      "    geospatial_vertical_max:       []\n",
      "    geospatial_vertical_units:     m\n",
      "    geospatial_vertical_positive:  up\n",
      "    time_coverage_start:           \n",
      "    time_coverage_end:             \n",
      "    jim_operational_commit:        \n",
      "    creator_email:                 mott@slf.ch\n",
      "    title:                         FSM2 results variables\n",
      "    summary:                       This file contains daily outputs of FSM2 r...\n",
      "    soilgrid:                      []\n"
     ]
    }
   ],
   "execution_count": 1
  },
  {
   "metadata": {
    "ExecuteTime": {
     "end_time": "2024-10-22T08:30:02.652994Z",
     "start_time": "2024-10-22T08:30:02.621046Z"
    }
   },
   "cell_type": "code",
   "source": [
    "# reform xarray\n",
    "import numpy as np\n",
    "\n",
    "SWE_envidat = SWE_envidat.rename({'xx': 'lon', 'yy': 'lat'})\n",
    "\n",
    "\n",
    "\n",
    "# Anzahl der Stationen bestimmen (Anzahl der Kombinationen von lon und lat)\n",
    "num_stations = SWE_envidat.dims['lon'] * SWE_envidat.dims['lat']\n",
    "\n",
    "# Erstelle eine Liste von station_id Werten (beginnend bei 1)\n",
    "station_ids = np.arange(1, num_stations + 1).reshape(SWE_envidat.dims['lat'], SWE_envidat.dims['lon'])\n",
    "\n",
    "# Füge die station_id als neue Koordinate zum Dataset hinzu\n",
    "SWE_envidat = SWE_envidat.assign_coords({'station_id': (('lat', 'lon'), station_ids)})\n",
    "SWE_envidat = SWE_envidat.drop_vars(['dem', 'open', 'forest', 'romc_all'])\n",
    "# Variable 'swee_all' in 'swe' umbenennen\n",
    "SWE_envidat = SWE_envidat.rename({'swee_all': 'swe'})\n",
    "# Ausgabe des aktualisierten Datasets\n",
    "print(SWE_envidat)\n"
   ],
   "id": "56adced8eb354a24",
   "outputs": [
    {
     "name": "stdout",
     "output_type": "stream",
     "text": [
      "<xarray.Dataset>\n",
      "Dimensions:          (lat: 272, lon: 365, time: 8704)\n",
      "Coordinates:\n",
      "  * lon              (lon) float64 4.74e+05 4.75e+05 ... 8.37e+05 8.38e+05\n",
      "  * lat              (lat) float64 5.3e+04 5.4e+04 5.5e+04 ... 3.23e+05 3.24e+05\n",
      "  * time             (time) datetime64[ns] 1998-09-01 1998-09-02 ... 2022-06-30\n",
      "    station_id       (lat, lon) int32 1 2 3 4 5 ... 99277 99278 99279 99280\n",
      "Data variables:\n",
      "    Projection_Type  float64 ...\n",
      "    swe              (time, lat, lon) float64 ...\n",
      "Attributes:\n",
      "    date_created:                  09-Jun-2023 16:30:30\n",
      "    creator_name:                  Rebecca Mott\n",
      "    project:                       FSM2\n",
      "    geospatial_lat_min:            []\n",
      "    geospatial_lat_max:            []\n",
      "    geospatial_lon_min:            []\n",
      "    geospatial_lon_max:            []\n",
      "    geospatial_lat_units:          m\n",
      "    geospatial_lon_units:          m\n",
      "    geospatial_vertical_min:       []\n",
      "    geospatial_vertical_max:       []\n",
      "    geospatial_vertical_units:     m\n",
      "    geospatial_vertical_positive:  up\n",
      "    time_coverage_start:           \n",
      "    time_coverage_end:             \n",
      "    jim_operational_commit:        \n",
      "    creator_email:                 mott@slf.ch\n",
      "    title:                         FSM2 results variables\n",
      "    summary:                       This file contains daily outputs of FSM2 r...\n",
      "    soilgrid:                      []\n"
     ]
    }
   ],
   "execution_count": 2
  },
  {
   "metadata": {
    "ExecuteTime": {
     "end_time": "2024-10-22T09:00:10.645047Z",
     "start_time": "2024-10-22T08:50:41.772793Z"
    }
   },
   "cell_type": "code",
   "source": [
    "# store the reformed xarray\n",
    "SWE_envidat.to_netcdf('../CH_data/CH_input_data/SWE_data.nc')"
   ],
   "id": "a974f98c76db6587",
   "outputs": [],
   "execution_count": 4
  },
  {
   "metadata": {},
   "cell_type": "code",
   "outputs": [],
   "execution_count": null,
   "source": "",
   "id": "b4f55163c9ad4454"
  }
 ],
 "metadata": {
  "kernelspec": {
   "display_name": "Python 3",
   "language": "python",
   "name": "python3"
  },
  "language_info": {
   "codemirror_mode": {
    "name": "ipython",
    "version": 2
   },
   "file_extension": ".py",
   "mimetype": "text/x-python",
   "name": "python",
   "nbconvert_exporter": "python",
   "pygments_lexer": "ipython2",
   "version": "2.7.6"
  }
 },
 "nbformat": 4,
 "nbformat_minor": 5
}
